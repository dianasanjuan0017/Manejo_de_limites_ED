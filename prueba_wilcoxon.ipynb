{
 "cells": [
  {
   "cell_type": "code",
   "execution_count": 28,
   "id": "e17ada2d-b125-46b4-adb8-b455e4cf46e1",
   "metadata": {},
   "outputs": [],
   "source": [
    "from scipy.stats import wilcoxon\n",
    "import pandas as pd\n",
    "\n",
    "# Cargar datos\n",
    "df = pd.read_csv(\"resultados10.csv\")\n",
    "df.columns = df.columns.str.strip()\n",
    "\n",
    "col_problema = \"PROBLEMAS/METODOS\"\n",
    "referencia = \"Limcor\"\n",
    "\n",
    "# Eliminar valores faltantes\n",
    "df = df.dropna()\n",
    "\n",
    "df = df.set_index(\"PROBLEMAS/METODOS\")\n",
    "\n",
    "\n"
   ]
  },
  {
   "cell_type": "code",
   "execution_count": null,
   "id": "09c39965-5471-4a98-9c40-e75b58aa9f39",
   "metadata": {},
   "outputs": [],
   "source": [
    "df_numerico = df.apply(pd.to_numeric, errors='coerce')\n",
    "\n",
    "# Calcular estadísticas descriptivas\n",
    "estadisticas = pd.DataFrame({\n",
    "    \"Media\": df_numerico.mean(axis=1),\n",
    "    \"Mediana\": df_numerico.median(axis=1),\n",
    "    \"Desviación estándar\": df_numerico.std(axis=1),\n",
    "    \"Rango intercuartílico (IQR)\": df_numerico.quantile(0.75, axis=1) - df_numerico.quantile(0.25, axis=1),\n",
    "    \"Rango\": df_numerico.max(axis=1) - df_numerico.min(axis=1)\n",
    "})\n",
    "\n",
    "\n",
    "pd.set_option(\"display.float_format\", \"{:.6f}\".format)\n",
    "\n",
    "print(\"Estadísticas descriptivas:\\n\")\n",
    "print(estadisticas)"
   ]
  },
  {
   "cell_type": "code",
   "execution_count": null,
   "id": "6e07ca23-bc1b-4b8b-9bc4-cdb2ea267a44",
   "metadata": {},
   "outputs": [],
   "source": [
    "# Convertir índice a columna\n",
    "df = df.reset_index()\n",
    "\n",
    "# Detectar el nombre real de la columna que antes era índice\n",
    "print(df.columns.tolist())  # para confirmar\n",
    "col_problema = df.columns[0]  # primera columna\n",
    "\n",
    "# Ahora puedes seguir con tu código\n",
    "problemas = df[col_problema].unique()\n",
    "resultados = []\n",
    "\n",
    "print(f\"--- Prueba de Wilcoxon por problema ---\\n\")\n",
    "for problema in problemas:\n",
    "    subset = df[df[col_problema] == problema]\n",
    "    print(f\"\\n=== Problema: {problema} ===\")\n",
    "    \n",
    "    for metodo in df.columns:\n",
    "        if metodo not in [col_problema, referencia]:\n",
    "            x = subset[referencia]\n",
    "            y = subset[metodo]\n",
    "            \n",
    "            diferencia = x - y\n",
    "            valores_unicos = diferencia.unique()\n",
    "            \n",
    "            if (valores_unicos == 0).all():\n",
    "                stat, p = 0, 1.0\n",
    "                significancia = \"No\"\n",
    "                print(f\"{referencia} vs {metodo} → Estadístico: {stat:.4f}, p-valor: {p:.4e}, Resultados idénticos\")\n",
    "            else:\n",
    "                stat, p = wilcoxon(x, y, zero_method='pratt')\n",
    "                significancia = \"Sí\" if p < 0.05 else \"No\"\n",
    "                print(f\"{referencia} vs {metodo} → Estadístico: {stat:.4f}, p-valor: {p:.4e}, Significativa: {significancia}\")\n",
    "            \n",
    "            resultados.append({\n",
    "                \"Problema\": problema,\n",
    "                \"Referencia\": referencia,\n",
    "                \"Método\": metodo,\n",
    "                \"Estadístico\": stat,\n",
    "                \"p-valor\": round(p, 4),\n",
    "                \"Significativa\": significancia\n",
    "            })\n",
    "\n",
    "# Guardar resultados en CSV\n",
    "df_resultados = pd.DataFrame(resultados)\n",
    "df_resultados.to_csv(\"wilcoxon_por_problema.csv\", index=False)\n"
   ]
  }
 ],
 "metadata": {
  "kernelspec": {
   "display_name": "Python 3 (ipykernel)",
   "language": "python",
   "name": "python3"
  },
  "language_info": {
   "codemirror_mode": {
    "name": "ipython",
    "version": 3
   },
   "file_extension": ".py",
   "mimetype": "text/x-python",
   "name": "python",
   "nbconvert_exporter": "python",
   "pygments_lexer": "ipython3",
   "version": "3.13.3"
  }
 },
 "nbformat": 4,
 "nbformat_minor": 5
}
